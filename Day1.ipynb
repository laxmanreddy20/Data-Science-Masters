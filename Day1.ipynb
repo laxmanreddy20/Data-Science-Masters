{
 "cells": [
  {
   "cell_type": "code",
   "execution_count": 1,
   "id": "93ab7017-86a3-4bef-830d-4fb00e1d5982",
   "metadata": {},
   "outputs": [
    {
     "name": "stdout",
     "output_type": "stream",
     "text": [
      "laxman\n"
     ]
    }
   ],
   "source": [
    "print(\"laxman\")"
   ]
  },
  {
   "cell_type": "code",
   "execution_count": 2,
   "id": "92cb752e-4846-463b-b805-c79e71739e79",
   "metadata": {},
   "outputs": [
    {
     "data": {
      "text/plain": [
       "'Laxman'"
      ]
     },
     "execution_count": 2,
     "metadata": {},
     "output_type": "execute_result"
    }
   ],
   "source": [
    "n = \"Laxman\"\n",
    "n\n"
   ]
  },
  {
   "cell_type": "code",
   "execution_count": 3,
   "id": "1debb165-29c2-4ee4-a631-27174a6b7ee1",
   "metadata": {},
   "outputs": [
    {
     "data": {
      "text/plain": [
       "str"
      ]
     },
     "execution_count": 3,
     "metadata": {},
     "output_type": "execute_result"
    }
   ],
   "source": [
    "type(n)\n"
   ]
  },
  {
   "cell_type": "code",
   "execution_count": 4,
   "id": "7182de88-da9d-4a7d-b534-7c681adc9386",
   "metadata": {},
   "outputs": [],
   "source": [
    "name = \"Laxman\""
   ]
  },
  {
   "cell_type": "code",
   "execution_count": 5,
   "id": "f2b243fd-69dc-4dce-915d-0a427e21997b",
   "metadata": {},
   "outputs": [
    {
     "data": {
      "text/plain": [
       "'Laxman'"
      ]
     },
     "execution_count": 5,
     "metadata": {},
     "output_type": "execute_result"
    }
   ],
   "source": [
    "name"
   ]
  },
  {
   "cell_type": "code",
   "execution_count": 6,
   "id": "117eb00e-f0d1-4054-9bfe-9ab415ba14eb",
   "metadata": {},
   "outputs": [],
   "source": [
    "name = 'Laxman'\n"
   ]
  },
  {
   "cell_type": "code",
   "execution_count": 7,
   "id": "eee62009-1764-4499-adc5-9fa97803bdcf",
   "metadata": {},
   "outputs": [
    {
     "data": {
      "text/plain": [
       "str"
      ]
     },
     "execution_count": 7,
     "metadata": {},
     "output_type": "execute_result"
    }
   ],
   "source": [
    "type(name)"
   ]
  },
  {
   "cell_type": "code",
   "execution_count": 8,
   "id": "99e9719c-5b33-41cd-95b1-3306af4757de",
   "metadata": {},
   "outputs": [
    {
     "ename": "NameError",
     "evalue": "name 'laxman' is not defined",
     "output_type": "error",
     "traceback": [
      "\u001b[0;31m---------------------------------------------------------------------------\u001b[0m",
      "\u001b[0;31mNameError\u001b[0m                                 Traceback (most recent call last)",
      "Cell \u001b[0;32mIn[8], line 1\u001b[0m\n\u001b[0;32m----> 1\u001b[0m \u001b[43mlaxman\u001b[49m\n",
      "\u001b[0;31mNameError\u001b[0m: name 'laxman' is not defined"
     ]
    }
   ],
   "source": [
    "laxman\n"
   ]
  },
  {
   "cell_type": "code",
   "execution_count": 10,
   "id": "508dd9e2-184a-4931-82f4-859187f4948d",
   "metadata": {},
   "outputs": [
    {
     "data": {
      "text/plain": [
       "'Laxman'"
      ]
     },
     "execution_count": 10,
     "metadata": {},
     "output_type": "execute_result"
    }
   ],
   "source": [
    "name"
   ]
  },
  {
   "cell_type": "code",
   "execution_count": null,
   "id": "bc6a7eeb-9475-46cd-b877-04ab969592e8",
   "metadata": {},
   "outputs": [],
   "source": []
  },
  {
   "cell_type": "code",
   "execution_count": 11,
   "id": "b153b9ad-01da-46ab-ae73-df54819cd535",
   "metadata": {},
   "outputs": [
    {
     "data": {
      "text/plain": [
       "'Laxman'"
      ]
     },
     "execution_count": 11,
     "metadata": {},
     "output_type": "execute_result"
    }
   ],
   "source": [
    "name"
   ]
  },
  {
   "cell_type": "code",
   "execution_count": null,
   "id": "7cdb3a60-d225-4b01-8086-ebf276072438",
   "metadata": {},
   "outputs": [],
   "source": []
  }
 ],
 "metadata": {
  "kernelspec": {
   "display_name": "Python 3 (ipykernel)",
   "language": "python",
   "name": "python3"
  },
  "language_info": {
   "codemirror_mode": {
    "name": "ipython",
    "version": 3
   },
   "file_extension": ".py",
   "mimetype": "text/x-python",
   "name": "python",
   "nbconvert_exporter": "python",
   "pygments_lexer": "ipython3",
   "version": "3.10.8"
  }
 },
 "nbformat": 4,
 "nbformat_minor": 5
}

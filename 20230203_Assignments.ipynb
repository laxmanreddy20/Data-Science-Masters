{
 "cells": [
  {
   "cell_type": "markdown",
   "id": "fd6dfd34-9014-4539-ab52-95fe97cfab57",
   "metadata": {},
   "source": [
    "#Q1. Which keyword is used to create a function? Create a function to return a list of odd numbers in the\n",
    "range of 1 to 25.\n",
    "\n",
    "Ans. Keyword is def"
   ]
  },
  {
   "cell_type": "code",
   "execution_count": 1,
   "id": "a62b1324-47aa-4eb9-a8b6-6b2165bfc75f",
   "metadata": {},
   "outputs": [],
   "source": [
    "def test_odd(a):\n",
    "    for i in range(a):\n",
    "        if i%2!=0:\n",
    "            print(i)"
   ]
  },
  {
   "cell_type": "code",
   "execution_count": 2,
   "id": "dcb8c8cb-8704-43e0-8006-d22cf0dadf3e",
   "metadata": {},
   "outputs": [
    {
     "name": "stdout",
     "output_type": "stream",
     "text": [
      "1\n",
      "3\n",
      "5\n",
      "7\n",
      "9\n",
      "11\n",
      "13\n",
      "15\n",
      "17\n",
      "19\n",
      "21\n",
      "23\n"
     ]
    }
   ],
   "source": [
    "test_odd(25)"
   ]
  },
  {
   "cell_type": "markdown",
   "id": "4a0d605e-bdb1-40b4-b5b8-5058625ee9b1",
   "metadata": {},
   "source": [
    "#Q2. Why *args and **kwargs is used in some functions? Create a function each for *args and **kwargs to\n",
    "demonstrate their use.\n",
    "\n",
    "Ans. *args is used to send multiple parameters\n",
    "     *kwargs is used to send key,value pair parameters as input\n",
    "     \n",
    "     Examples are given Below"
   ]
  },
  {
   "cell_type": "code",
   "execution_count": 3,
   "id": "c3fc9271-8449-463e-8337-dcfef6fae77a",
   "metadata": {},
   "outputs": [],
   "source": [
    "def test_args(*args):\n",
    "    for i in args:\n",
    "        print(i)"
   ]
  },
  {
   "cell_type": "code",
   "execution_count": 4,
   "id": "ce29ec00-6689-4ca7-b8fe-421e98c0d3f1",
   "metadata": {},
   "outputs": [
    {
     "name": "stdout",
     "output_type": "stream",
     "text": [
      "1\n",
      "2\n",
      "3\n",
      "4\n"
     ]
    }
   ],
   "source": [
    "test_args(1,2,3,4)"
   ]
  },
  {
   "cell_type": "code",
   "execution_count": 24,
   "id": "aaaff9f8-7c3c-4d88-9975-c03f0f0a0c69",
   "metadata": {},
   "outputs": [],
   "source": [
    "def test_kwargs(**kwargs):\n",
    "    print(\"Keys are\")\n",
    "    for i in kwargs.keys():\n",
    "        print (i)\n",
    "    print(\"Values are\")        \n",
    "    for i in kwargs.values():\n",
    "        print (i)        "
   ]
  },
  {
   "cell_type": "code",
   "execution_count": 25,
   "id": "0cfe6f9c-ac17-4092-b259-cb07fdd7780f",
   "metadata": {},
   "outputs": [
    {
     "name": "stdout",
     "output_type": "stream",
     "text": [
      "Keys are\n",
      "name\n",
      "age\n",
      "place\n",
      "Values are\n",
      "Laxman\n",
      "20\n",
      "Bangalore\n"
     ]
    }
   ],
   "source": [
    "\n",
    "test_kwargs(name=\"Laxman\",age=20,place=\"Bangalore\")"
   ]
  },
  {
   "cell_type": "markdown",
   "id": "cd109c19-167d-4b0d-ac4f-2f6607a8c969",
   "metadata": {},
   "source": [
    "#Q3. What is an iterator in python? Name the method used to initialise the iterator object and the method\n",
    "used for iteration. Use these methods to print the first five elements of the given list [2, 4, 6, 8, 10, 12, 14, 16,\n",
    "18, 20].\n",
    "\n",
    "Ans. An iterator is an object that can be iterated upon, can traverse through all the values\n",
    "\n",
    "Mainly there are 2 methods in itrator.\n",
    "iter() used to initialize\n",
    "next() used to get next value"
   ]
  },
  {
   "cell_type": "code",
   "execution_count": 31,
   "id": "cf83b458-29c3-495d-9cfb-e703c3fb4c28",
   "metadata": {},
   "outputs": [
    {
     "name": "stdout",
     "output_type": "stream",
     "text": [
      "2\n",
      "4\n",
      "6\n",
      "8\n",
      "10\n"
     ]
    }
   ],
   "source": [
    "lst=[2, 4, 6, 8, 10, 12, 14, 16,18, 20]\n",
    "myit = iter(lst)\n",
    "for i in range(5):\n",
    "     print(next(myit))"
   ]
  },
  {
   "cell_type": "markdown",
   "id": "96fcd3d3-cefd-4c36-a3fc-eb95dd89166b",
   "metadata": {},
   "source": [
    "#Q4. What is a generator function in python? Why yield keyword is used? Give an example of a generator\n",
    "function.\n",
    "\n",
    "Ans. Generator allow you to define an iterative algorithm by writing a single function whose execution is not continuous.\n",
    "\n",
    "The yield keyword pauses generator function execution and the value of the expression following the yield keyword is returned to the generator's caller\n",
    "\n",
    "Example Below"
   ]
  },
  {
   "cell_type": "code",
   "execution_count": 38,
   "id": "a8374ca7-3b32-4661-8c7d-f53a6c34004e",
   "metadata": {},
   "outputs": [],
   "source": [
    "def test_gen(n):\n",
    "    a=0\n",
    "    b=1\n",
    "    for i in range(n):\n",
    "        yield a\n",
    "        a,b=b,a+b"
   ]
  },
  {
   "cell_type": "code",
   "execution_count": 41,
   "id": "3c72d222-b274-486e-8c39-fb76334ee735",
   "metadata": {},
   "outputs": [
    {
     "name": "stdout",
     "output_type": "stream",
     "text": [
      "0\n",
      "1\n",
      "1\n",
      "2\n",
      "3\n"
     ]
    }
   ],
   "source": [
    "for i in test_gen(5):\n",
    "    print (i)"
   ]
  },
  {
   "cell_type": "markdown",
   "id": "3fcc7146-4d43-4e38-bf71-806de4be2de7",
   "metadata": {},
   "source": [
    "#Q5. Create a generator function for prime numbers less than 1000. Use the next() method to print the\n",
    "first 20 prime numbers."
   ]
  },
  {
   "cell_type": "code",
   "execution_count": 74,
   "id": "42dc9c89-056f-446c-a28a-04e511ae4e32",
   "metadata": {},
   "outputs": [],
   "source": [
    "def gen_primes(n):\n",
    "    primes = []\n",
    "    for i in range(2, n):\n",
    "        if all(i % p > 0 for p in primes):\n",
    "            primes.append(i)            \n",
    "            yield i            "
   ]
  },
  {
   "cell_type": "code",
   "execution_count": 76,
   "id": "8e611a27-523d-44da-af3e-20bf202894fa",
   "metadata": {},
   "outputs": [
    {
     "name": "stdout",
     "output_type": "stream",
     "text": [
      "2\n",
      "3\n",
      "5\n",
      "7\n",
      "11\n",
      "13\n",
      "17\n",
      "19\n",
      "23\n",
      "29\n",
      "31\n",
      "37\n",
      "41\n",
      "43\n",
      "47\n",
      "53\n",
      "59\n",
      "61\n",
      "67\n",
      "71\n"
     ]
    }
   ],
   "source": [
    "myit=iter(gen_primes(100))\n",
    "for i in range(20):\n",
    "    print(next(myit))"
   ]
  },
  {
   "cell_type": "code",
   "execution_count": null,
   "id": "ab46c008-71db-431c-8b31-a7d2f9af0845",
   "metadata": {},
   "outputs": [],
   "source": []
  }
 ],
 "metadata": {
  "kernelspec": {
   "display_name": "Python 3 (ipykernel)",
   "language": "python",
   "name": "python3"
  },
  "language_info": {
   "codemirror_mode": {
    "name": "ipython",
    "version": 3
   },
   "file_extension": ".py",
   "mimetype": "text/x-python",
   "name": "python",
   "nbconvert_exporter": "python",
   "pygments_lexer": "ipython3",
   "version": "3.10.8"
  }
 },
 "nbformat": 4,
 "nbformat_minor": 5
}

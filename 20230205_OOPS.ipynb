{
 "cells": [
  {
   "cell_type": "code",
   "execution_count": 1,
   "id": "f4ec33fb-e9aa-4466-a698-3e40625037bc",
   "metadata": {},
   "outputs": [
    {
     "name": "stdout",
     "output_type": "stream",
     "text": [
      "<class 'str'>\n"
     ]
    }
   ],
   "source": [
    "print(type('PW'))"
   ]
  },
  {
   "cell_type": "code",
   "execution_count": 3,
   "id": "c0810470-3384-46bb-8807-b8ce00cdcfd7",
   "metadata": {},
   "outputs": [],
   "source": [
    "class test:\n",
    "    pass"
   ]
  },
  {
   "cell_type": "code",
   "execution_count": 4,
   "id": "c8c047c4-aeb7-44ac-902b-72bfc5e59c29",
   "metadata": {},
   "outputs": [],
   "source": [
    "a = test()"
   ]
  },
  {
   "cell_type": "code",
   "execution_count": 5,
   "id": "0a27cb78-431f-46e3-93fa-c05705a7f6b9",
   "metadata": {},
   "outputs": [
    {
     "name": "stdout",
     "output_type": "stream",
     "text": [
      "<class '__main__.test'>\n"
     ]
    }
   ],
   "source": [
    "print(type(a))"
   ]
  },
  {
   "cell_type": "code",
   "execution_count": 11,
   "id": "b118b5ae-f6fa-4f69-932b-03d9047ddb80",
   "metadata": {},
   "outputs": [],
   "source": [
    "class pwskills:\n",
    "    def welcome_msg(self):\n",
    "        print(\"Welcome\")"
   ]
  },
  {
   "cell_type": "code",
   "execution_count": 8,
   "id": "0f36856d-091f-49b7-92cb-b7bec786712a",
   "metadata": {},
   "outputs": [
    {
     "name": "stdout",
     "output_type": "stream",
     "text": [
      "Welcome\n"
     ]
    }
   ],
   "source": [
    "pwskills.welcome_msg()"
   ]
  },
  {
   "cell_type": "code",
   "execution_count": 13,
   "id": "3d6d4901-8311-4a8e-8287-1077d7e12f1b",
   "metadata": {},
   "outputs": [],
   "source": [
    "rohan = pwskills()"
   ]
  },
  {
   "cell_type": "code",
   "execution_count": 14,
   "id": "03e9a48d-5190-46a1-af28-1efe77597326",
   "metadata": {},
   "outputs": [
    {
     "name": "stdout",
     "output_type": "stream",
     "text": [
      "Welcome\n"
     ]
    }
   ],
   "source": [
    "rohan.welcome_msg()"
   ]
  },
  {
   "cell_type": "code",
   "execution_count": 15,
   "id": "69958d60-61b1-4113-b5b1-f2e62431388f",
   "metadata": {},
   "outputs": [],
   "source": [
    "sohan = pwskills()"
   ]
  },
  {
   "cell_type": "code",
   "execution_count": 16,
   "id": "31bf5481-b0bc-4d28-9ee2-9a3af0370ef1",
   "metadata": {},
   "outputs": [
    {
     "name": "stdout",
     "output_type": "stream",
     "text": [
      "Welcome\n"
     ]
    }
   ],
   "source": [
    "sohan.welcome_msg()"
   ]
  },
  {
   "cell_type": "markdown",
   "id": "0576771b-9ed3-46ad-bac6-048c15220e4c",
   "metadata": {},
   "source": [
    "#Constructor"
   ]
  },
  {
   "cell_type": "code",
   "execution_count": 3,
   "id": "feb4ef1a-cd40-46d9-9aef-87952301bf4e",
   "metadata": {},
   "outputs": [],
   "source": [
    "class pwskills1:\n",
    "    def __init__(self, phone_number, email_id, student_id):\n",
    "        self.phone_number = phone_number\n",
    "        self.email_id = email_id\n",
    "        self.student_id=student_id\n",
    "        \n",
    "        \n",
    "    def return_student_details(self):\n",
    "        return self.phone_number, self.email_id, self.student_id"
   ]
  },
  {
   "cell_type": "code",
   "execution_count": 14,
   "id": "fc9db752-d7be-4cd3-8912-a9d01d63571c",
   "metadata": {},
   "outputs": [],
   "source": [
    "rohan = pwskills1(9886225547, 'rohan@gmail.com', 101)"
   ]
  },
  {
   "cell_type": "code",
   "execution_count": 17,
   "id": "0db0b3ac-1543-407a-8c05-4eaf55db5db2",
   "metadata": {},
   "outputs": [
    {
     "data": {
      "text/plain": [
       "(9886225547, 'rohan@gmail.com', 101)"
      ]
     },
     "execution_count": 17,
     "metadata": {},
     "output_type": "execute_result"
    }
   ],
   "source": [
    "rohan.return_student_details()"
   ]
  },
  {
   "cell_type": "code",
   "execution_count": 16,
   "id": "bd9d1ee0-f72a-4bc1-9e6a-77483a3fd08e",
   "metadata": {},
   "outputs": [
    {
     "data": {
      "text/plain": [
       "9886225547"
      ]
     },
     "execution_count": 16,
     "metadata": {},
     "output_type": "execute_result"
    }
   ],
   "source": [
    "rohan.phone_number"
   ]
  },
  {
   "cell_type": "code",
   "execution_count": 11,
   "id": "9c2f6d22-3243-433f-8d3e-3ef6b0fda128",
   "metadata": {},
   "outputs": [],
   "source": [
    "rohan.phone_number=1111"
   ]
  },
  {
   "cell_type": "code",
   "execution_count": 19,
   "id": "9a9d1878-23f7-4701-9ab3-99d9713d8a5a",
   "metadata": {},
   "outputs": [],
   "source": [
    "sohan = pwskills1(22222,'sohan@gmail.com',102)"
   ]
  },
  {
   "cell_type": "code",
   "execution_count": 21,
   "id": "1186422a-0e5f-4424-bf4e-d1f97c59514e",
   "metadata": {},
   "outputs": [
    {
     "data": {
      "text/plain": [
       "(22222, 'sohan@gmail.com', 102)"
      ]
     },
     "execution_count": 21,
     "metadata": {},
     "output_type": "execute_result"
    }
   ],
   "source": [
    "sohan.return_student_details()"
   ]
  },
  {
   "cell_type": "code",
   "execution_count": null,
   "id": "6f95e14e-1c3c-4e12-be09-277e750f6065",
   "metadata": {},
   "outputs": [],
   "source": []
  }
 ],
 "metadata": {
  "kernelspec": {
   "display_name": "Python 3 (ipykernel)",
   "language": "python",
   "name": "python3"
  },
  "language_info": {
   "codemirror_mode": {
    "name": "ipython",
    "version": 3
   },
   "file_extension": ".py",
   "mimetype": "text/x-python",
   "name": "python",
   "nbconvert_exporter": "python",
   "pygments_lexer": "ipython3",
   "version": "3.10.8"
  }
 },
 "nbformat": 4,
 "nbformat_minor": 5
}

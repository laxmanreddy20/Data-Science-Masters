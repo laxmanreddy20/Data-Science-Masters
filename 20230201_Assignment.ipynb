{
 "cells": [
  {
   "cell_type": "markdown",
   "id": "502ac4d3-f4ca-467e-84b7-5badd5d482f6",
   "metadata": {},
   "source": [
    "# 01/02/2023"
   ]
  },
  {
   "cell_type": "markdown",
   "id": "ba2344e8-e6f1-4bb5-98ee-dda3f2cf38d7",
   "metadata": {},
   "source": [
    "## 1. Create list of only primary Numbers"
   ]
  },
  {
   "cell_type": "code",
   "execution_count": 1,
   "id": "7e6ea1b7-d6b8-4e48-a106-69d04bf6ccea",
   "metadata": {},
   "outputs": [],
   "source": [
    "numbers = [1,2,3,4,5,6,7,8,9,10]"
   ]
  },
  {
   "cell_type": "code",
   "execution_count": 2,
   "id": "47571e8c-d8a5-4e50-ac79-f16d523a7036",
   "metadata": {},
   "outputs": [
    {
     "name": "stdout",
     "output_type": "stream",
     "text": [
      "2\n",
      "3\n",
      "5\n",
      "7\n"
     ]
    }
   ],
   "source": [
    "for num in numbers:\n",
    "    if num >1:\n",
    "        for i in range(2, int(num/2)+1):\n",
    "            if (num%i)==0:\n",
    "                break\n",
    "        else:\n",
    "            print(num)\n",
    "          "
   ]
  },
  {
   "cell_type": "code",
   "execution_count": 4,
   "id": "b11f8f74-9865-4f7b-bb5c-89ad4d918d02",
   "metadata": {},
   "outputs": [
    {
     "data": {
      "text/plain": [
       "[2, 2, 3, 3, 2, 4, 3, 4]"
      ]
     },
     "execution_count": 4,
     "metadata": {},
     "output_type": "execute_result"
    }
   ],
   "source": [
    "[i for num in numbers for i in range (2, int(num/2)+1) if (num%i)!=0]"
   ]
  },
  {
   "cell_type": "markdown",
   "id": "bf55b856-be12-4e9b-a835-a274ea0b0449",
   "metadata": {},
   "source": [
    "# Create a list of all possible combinations"
   ]
  },
  {
   "cell_type": "code",
   "execution_count": 5,
   "id": "377f1eac-056d-4405-a2e8-f54ccd195d2b",
   "metadata": {},
   "outputs": [],
   "source": [
    "numbers=[1,2,3,4,5]"
   ]
  },
  {
   "cell_type": "code",
   "execution_count": 11,
   "id": "13ef234b-75b6-4e2a-9b73-0d84436d4d55",
   "metadata": {},
   "outputs": [
    {
     "name": "stdout",
     "output_type": "stream",
     "text": [
      "1 2\n",
      "1 3\n",
      "1 4\n",
      "1 5\n",
      "2 3\n",
      "2 4\n",
      "2 5\n",
      "3 4\n",
      "3 5\n",
      "4 5\n"
     ]
    }
   ],
   "source": [
    "ind=1\n",
    "for i in numbers:\n",
    "    for j in numbers[ind:]:\n",
    "        if i==j:\n",
    "            pass\n",
    "        else:\n",
    "            print(i,j)\n",
    "    ind+=1"
   ]
  },
  {
   "cell_type": "code",
   "execution_count": 13,
   "id": "90b308c5-d897-4906-aa61-8e1b39d05064",
   "metadata": {},
   "outputs": [],
   "source": [
    "ind=1"
   ]
  },
  {
   "cell_type": "code",
   "execution_count": 20,
   "id": "281735da-d1e3-4221-9502-d545c0af1513",
   "metadata": {},
   "outputs": [
    {
     "data": {
      "text/plain": [
       "[(1, 2),\n",
       " (1, 3),\n",
       " (1, 4),\n",
       " (1, 5),\n",
       " (2, 3),\n",
       " (2, 4),\n",
       " (2, 5),\n",
       " (3, 2),\n",
       " (3, 4),\n",
       " (3, 5),\n",
       " (4, 2),\n",
       " (4, 3),\n",
       " (4, 5),\n",
       " (5, 2),\n",
       " (5, 3),\n",
       " (5, 4)]"
      ]
     },
     "execution_count": 20,
     "metadata": {},
     "output_type": "execute_result"
    }
   ],
   "source": [
    "[(i,j) for i in numbers for j in numbers[ind:] if i!=j]"
   ]
  },
  {
   "cell_type": "code",
   "execution_count": null,
   "id": "cc9ef1f9-39fe-4b47-b791-1e5f0f81d119",
   "metadata": {},
   "outputs": [],
   "source": []
  }
 ],
 "metadata": {
  "kernelspec": {
   "display_name": "Python 3 (ipykernel)",
   "language": "python",
   "name": "python3"
  },
  "language_info": {
   "codemirror_mode": {
    "name": "ipython",
    "version": 3
   },
   "file_extension": ".py",
   "mimetype": "text/x-python",
   "name": "python",
   "nbconvert_exporter": "python",
   "pygments_lexer": "ipython3",
   "version": "3.10.8"
  }
 },
 "nbformat": 4,
 "nbformat_minor": 5
}

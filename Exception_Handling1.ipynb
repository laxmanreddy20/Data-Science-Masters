{
 "cells": [
  {
   "cell_type": "markdown",
   "id": "9a5b64b3-c092-4234-ac84-7cced4f28966",
   "metadata": {},
   "source": [
    "# Q1. What is an Exception in python? Write the difference between Exceptions and syntx errors"
   ]
  },
  {
   "cell_type": "markdown",
   "id": "292c0dba-8b86-4b73-842f-01d1863e7a73",
   "metadata": {},
   "source": [
    "#Ans. An exception is an event, which occurs during the execution of a program that disrupts the normal flow of the program's instructions\n",
    "\n",
    "Syntax errors are those which can raise at the time of compilation of code\n",
    "Exceptions are raised at the program execution which can be handled in the program"
   ]
  },
  {
   "cell_type": "markdown",
   "id": "261f881a-56c4-4cc8-a7cc-f6a93d9862e3",
   "metadata": {},
   "source": [
    "# Q2. What happens when an exception is not handled? Explain with an example."
   ]
  },
  {
   "cell_type": "markdown",
   "id": "ec4f73c0-6152-40bb-960d-6385e34a3aa2",
   "metadata": {},
   "source": [
    "#Ans. While executing the program, if any error occured then program will stop executing\n",
    "\n",
    "Example Below\n",
    "test methos will not print the meesage if exception is not handled"
   ]
  },
  {
   "cell_type": "code",
   "execution_count": 4,
   "id": "05409607-36e3-40bf-a105-76e1f44d3f63",
   "metadata": {},
   "outputs": [],
   "source": [
    "def test(a):\n",
    "    a/0\n",
    "    print(\"This is test program\")"
   ]
  },
  {
   "cell_type": "code",
   "execution_count": 5,
   "id": "e4282084-e1ec-42be-8db8-181cf7d206d7",
   "metadata": {},
   "outputs": [
    {
     "ename": "ZeroDivisionError",
     "evalue": "division by zero",
     "output_type": "error",
     "traceback": [
      "\u001b[0;31m---------------------------------------------------------------------------\u001b[0m",
      "\u001b[0;31mZeroDivisionError\u001b[0m                         Traceback (most recent call last)",
      "Cell \u001b[0;32mIn[5], line 1\u001b[0m\n\u001b[0;32m----> 1\u001b[0m \u001b[43mtest\u001b[49m\u001b[43m(\u001b[49m\u001b[38;5;241;43m1\u001b[39;49m\u001b[43m)\u001b[49m\n",
      "Cell \u001b[0;32mIn[4], line 2\u001b[0m, in \u001b[0;36mtest\u001b[0;34m(a)\u001b[0m\n\u001b[1;32m      1\u001b[0m \u001b[38;5;28;01mdef\u001b[39;00m \u001b[38;5;21mtest\u001b[39m(a):\n\u001b[0;32m----> 2\u001b[0m     \u001b[43ma\u001b[49m\u001b[38;5;241;43m/\u001b[39;49m\u001b[38;5;241;43m0\u001b[39;49m\n\u001b[1;32m      3\u001b[0m     \u001b[38;5;28mprint\u001b[39m(\u001b[38;5;124m\"\u001b[39m\u001b[38;5;124mThis is test program\u001b[39m\u001b[38;5;124m\"\u001b[39m)\n",
      "\u001b[0;31mZeroDivisionError\u001b[0m: division by zero"
     ]
    }
   ],
   "source": [
    "test(1)"
   ]
  },
  {
   "cell_type": "code",
   "execution_count": 7,
   "id": "a2e94c19-43e0-413f-bf59-cb256c707cbb",
   "metadata": {},
   "outputs": [],
   "source": [
    "def test(a):\n",
    "    try:\n",
    "        a/0\n",
    "    except ZeroDivisionError as e:\n",
    "        pass        \n",
    "    print(\"This is test program\")"
   ]
  },
  {
   "cell_type": "code",
   "execution_count": 8,
   "id": "2f92201a-5878-476d-bddf-1cc55eabf915",
   "metadata": {},
   "outputs": [
    {
     "name": "stdout",
     "output_type": "stream",
     "text": [
      "This is test program\n"
     ]
    }
   ],
   "source": [
    "test(1)"
   ]
  },
  {
   "cell_type": "markdown",
   "id": "5c39cc38-8298-4aa9-b077-4cc6d0cf0e29",
   "metadata": {},
   "source": [
    "# Q3. Which Python statements are used to catch and handle exceptions? Explain with an example"
   ]
  },
  {
   "cell_type": "markdown",
   "id": "34fdacc5-5f5b-409f-869d-d8dfe0fe1266",
   "metadata": {},
   "source": [
    "#Ans. The try and except block in Python is used to catch and handle exceptions\n",
    "\n",
    "Example Below"
   ]
  },
  {
   "cell_type": "code",
   "execution_count": 14,
   "id": "debecc96-37dc-47b6-9d78-b0843baa7b5c",
   "metadata": {},
   "outputs": [],
   "source": [
    "def test(a):\n",
    "    try:\n",
    "        a/0\n",
    "    except ZeroDivisionError as e:\n",
    "        print(\"Error Occured\") \n",
    "    except Exception as e:\n",
    "        print(\"Common Exception\")\n",
    "    print(\"This is test program\")"
   ]
  },
  {
   "cell_type": "code",
   "execution_count": 15,
   "id": "94d8a21c-8ce9-4215-a74d-ff7566e02673",
   "metadata": {},
   "outputs": [
    {
     "name": "stdout",
     "output_type": "stream",
     "text": [
      "Error Occured\n",
      "This is test program\n"
     ]
    }
   ],
   "source": [
    "test(1)"
   ]
  },
  {
   "cell_type": "markdown",
   "id": "09311598-e403-49ef-a6af-a3a4084d0df6",
   "metadata": {},
   "source": [
    "# Q4. Explain with an example:\n",
    "#try and else\n",
    "#finally\n",
    "#raise\n",
    "\n",
    "If there is no error in TRY block then program will execute ELSE block.\n",
    "If any error occured in TRY block then program will skip ELSE block\n",
    "\n",
    "Finally block will execute irrespective of error.\n",
    "\n",
    "The raise keyword is used to raise an exception."
   ]
  },
  {
   "cell_type": "code",
   "execution_count": 26,
   "id": "ac293310-533d-4707-8869-cbd55139d3fb",
   "metadata": {},
   "outputs": [],
   "source": [
    "def test1(x):\n",
    "    try:\n",
    "        if 10/x ==1:\n",
    "            print(\"Entered value is divisible by 10\")\n",
    "        else:\n",
    "            print(\"SOme other number\")\n",
    "    except Exception as e:\n",
    "        print(\"You are in Exception block\")    \n",
    "    else:\n",
    "        print(\"You are in else block\")\n",
    "    finally:\n",
    "        print(\"You are in finally block\")\n",
    "        raise Exception(\"End of program\")"
   ]
  },
  {
   "cell_type": "code",
   "execution_count": 25,
   "id": "d1774d2a-94aa-4c39-a9a1-078667edb06c",
   "metadata": {},
   "outputs": [
    {
     "name": "stdout",
     "output_type": "stream",
     "text": [
      "Entered value is divisible by 10\n",
      "You are in else block\n",
      "You are in finally block\n"
     ]
    },
    {
     "ename": "Exception",
     "evalue": "End",
     "output_type": "error",
     "traceback": [
      "\u001b[0;31m---------------------------------------------------------------------------\u001b[0m",
      "\u001b[0;31mException\u001b[0m                                 Traceback (most recent call last)",
      "Cell \u001b[0;32mIn[25], line 1\u001b[0m\n\u001b[0;32m----> 1\u001b[0m \u001b[43mtest1\u001b[49m\u001b[43m(\u001b[49m\u001b[38;5;241;43m10\u001b[39;49m\u001b[43m)\u001b[49m\n",
      "Cell \u001b[0;32mIn[24], line 13\u001b[0m, in \u001b[0;36mtest1\u001b[0;34m(x)\u001b[0m\n\u001b[1;32m     11\u001b[0m \u001b[38;5;28;01mfinally\u001b[39;00m:\n\u001b[1;32m     12\u001b[0m     \u001b[38;5;28mprint\u001b[39m(\u001b[38;5;124m\"\u001b[39m\u001b[38;5;124mYou are in finally block\u001b[39m\u001b[38;5;124m\"\u001b[39m)\n\u001b[0;32m---> 13\u001b[0m     \u001b[38;5;28;01mraise\u001b[39;00m \u001b[38;5;167;01mException\u001b[39;00m(\u001b[38;5;124m\"\u001b[39m\u001b[38;5;124mEnd\u001b[39m\u001b[38;5;124m\"\u001b[39m)\n",
      "\u001b[0;31mException\u001b[0m: End"
     ]
    }
   ],
   "source": [
    "test1(10)"
   ]
  },
  {
   "cell_type": "code",
   "execution_count": 23,
   "id": "718908c8-08c8-42a7-9ec2-212944c4a9cb",
   "metadata": {},
   "outputs": [
    {
     "name": "stdout",
     "output_type": "stream",
     "text": [
      "You are in Exception block\n",
      "You are in finally block\n"
     ]
    }
   ],
   "source": [
    "test1(0)"
   ]
  },
  {
   "cell_type": "markdown",
   "id": "944263ad-4b1f-4b1c-a7a9-416d2b4c4bbf",
   "metadata": {},
   "source": [
    "# Q5. What are Custom Exceptions in python? Why do we need Custom Exceptions? Explain with an example"
   ]
  },
  {
   "cell_type": "markdown",
   "id": "324d658d-fd90-4bcd-a273-3065328b54cf",
   "metadata": {},
   "source": [
    "#we can define custom exceptions by creating a new class that is derived from the built-in Exception class.\n",
    "\n",
    "These custom expcetions are required to show relevant message to user"
   ]
  },
  {
   "cell_type": "code",
   "execution_count": 32,
   "id": "824ed2fd-0313-4af4-a549-5cf6ecbf0d4d",
   "metadata": {},
   "outputs": [],
   "source": [
    "class InvalidAgeException(Exception):\n",
    "    \"Raised when the input value is less than 18\"\n",
    "    pass"
   ]
  },
  {
   "cell_type": "markdown",
   "id": "98c92548-4a9b-496c-aa5f-de57b38aef2b",
   "metadata": {},
   "source": [
    "# Q6. Create custom exception class. Use this class to handle an exception."
   ]
  },
  {
   "cell_type": "code",
   "execution_count": null,
   "id": "dabda9dd-833d-491e-b3ea-a46406c8d3b3",
   "metadata": {},
   "outputs": [],
   "source": [
    "class InvalidAgeException(Exception):\n",
    "    \"Raised when the input value is less than 18\"\n",
    "    pass"
   ]
  },
  {
   "cell_type": "code",
   "execution_count": 30,
   "id": "4256a2f8-a537-4ac6-859f-8fe4c7644bfe",
   "metadata": {},
   "outputs": [
    {
     "name": "stdin",
     "output_type": "stream",
     "text": [
      "Enter a number:  10\n"
     ]
    },
    {
     "name": "stdout",
     "output_type": "stream",
     "text": [
      "Exception occurred: Invalid Age\n"
     ]
    }
   ],
   "source": [
    "number =18\n",
    "try:\n",
    "    input_num = int(input(\"Enter a number: \"))\n",
    "    if input_num < number:\n",
    "        raise InvalidAgeException\n",
    "    else:\n",
    "        print(\"Eligible to Vote\")\n",
    "        \n",
    "except InvalidAgeException:\n",
    "    print(\"Exception occurred: Invalid Age\")"
   ]
  },
  {
   "cell_type": "code",
   "execution_count": null,
   "id": "520eed32-3b04-4c32-927c-252c4bef9bb8",
   "metadata": {},
   "outputs": [],
   "source": []
  }
 ],
 "metadata": {
  "kernelspec": {
   "display_name": "Python 3 (ipykernel)",
   "language": "python",
   "name": "python3"
  },
  "language_info": {
   "codemirror_mode": {
    "name": "ipython",
    "version": 3
   },
   "file_extension": ".py",
   "mimetype": "text/x-python",
   "name": "python",
   "nbconvert_exporter": "python",
   "pygments_lexer": "ipython3",
   "version": "3.10.8"
  }
 },
 "nbformat": 4,
 "nbformat_minor": 5
}

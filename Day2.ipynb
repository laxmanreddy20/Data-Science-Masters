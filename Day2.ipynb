{
 "cells": [
  {
   "cell_type": "code",
   "execution_count": 5,
   "id": "f0fee658-4efa-4645-95ef-527335e99e6a",
   "metadata": {},
   "outputs": [
    {
     "name": "stdout",
     "output_type": "stream",
     "text": [
      "My name is Laxman Reddy and my age is 38. I have completed BE\n"
     ]
    }
   ],
   "source": [
    "name=\"Laxman Reddy\"\n",
    "age=38\n",
    "degree=\"BE\"\n",
    "print(f\"My name is {name} and my age is {age}. I have completed {degree}\")"
   ]
  },
  {
   "cell_type": "code",
   "execution_count": 10,
   "id": "1c979f4c-2c09-4ef1-9050-c3d9ee5b5599",
   "metadata": {},
   "outputs": [
    {
     "name": "stdout",
     "output_type": "stream",
     "text": [
      "My name is Laxman Reddy and my age is 38. I have completed 38\n"
     ]
    }
   ],
   "source": [
    "name=\"Laxman Reddy\"\n",
    "age=38\n",
    "degree=\"BE\"\n",
    "print(\"My name is {} and my age is {}. I have completed {}\".format(name,age,age,age\n",
    "                                                                  ))"
   ]
  },
  {
   "cell_type": "code",
   "execution_count": null,
   "id": "5e21679f-ef97-4406-b5da-5407bbc0f53f",
   "metadata": {},
   "outputs": [],
   "source": []
  },
  {
   "cell_type": "code",
   "execution_count": 1,
   "id": "2045ee4a-d505-4b30-ab05-250a25bd4457",
   "metadata": {},
   "outputs": [
    {
     "name": "stdin",
     "output_type": "stream",
     "text": [
      "Enter your age 22\n"
     ]
    },
    {
     "name": "stdout",
     "output_type": "stream",
     "text": [
      "You are young\n"
     ]
    }
   ],
   "source": [
    "age=int(input(\"Enter your age\"))\n",
    "if age>=18 and age <=32:\n",
    "    print(\"You are young\")\n",
    "else:\n",
    "    print(\"Old\")\n",
    "    "
   ]
  },
  {
   "cell_type": "markdown",
   "id": "2de8cb3c-00c1-4b03-ba22-fb7640f744fc",
   "metadata": {},
   "source": [
    "# Sample"
   ]
  },
  {
   "cell_type": "raw",
   "id": "4d33aa0f-3aff-4618-af56-bddbd849cc28",
   "metadata": {},
   "source": []
  },
  {
   "cell_type": "code",
   "execution_count": null,
   "id": "af16fd8f-1696-40db-a203-70997653e101",
   "metadata": {},
   "outputs": [],
   "source": []
  },
  {
   "cell_type": "markdown",
   "id": "81ec265c-cd67-4e24-90aa-7751110e25ca",
   "metadata": {},
   "source": [
    "# Sample2"
   ]
  },
  {
   "cell_type": "code",
   "execution_count": null,
   "id": "a8b50acd-3c9a-4c0e-becf-c0e4a7318be3",
   "metadata": {},
   "outputs": [],
   "source": []
  }
 ],
 "metadata": {
  "kernelspec": {
   "display_name": "Python 3 (ipykernel)",
   "language": "python",
   "name": "python3"
  },
  "language_info": {
   "codemirror_mode": {
    "name": "ipython",
    "version": 3
   },
   "file_extension": ".py",
   "mimetype": "text/x-python",
   "name": "python",
   "nbconvert_exporter": "python",
   "pygments_lexer": "ipython3",
   "version": "3.10.8"
  }
 },
 "nbformat": 4,
 "nbformat_minor": 5
}

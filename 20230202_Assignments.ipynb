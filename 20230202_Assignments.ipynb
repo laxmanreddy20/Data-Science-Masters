{
 "cells": [
  {
   "cell_type": "markdown",
   "id": "c8b937f9-4bde-4002-8b73-50d51383a7a9",
   "metadata": {},
   "source": [
    "#Q1. What are the characteristics of the tuples? Is tuple immutable?\n",
    "\n",
    "Tuples are Immutable"
   ]
  },
  {
   "cell_type": "markdown",
   "id": "8c482d71-c0a3-484f-9157-8037fc7cb702",
   "metadata": {},
   "source": [
    "#Q2.What are the two tuple methods in python? Give an example of each method. Give a reason why\n",
    "tuples have only two in-built methods as compared to Lists.\n",
    "\n",
    "Ans. There are 2 methods available for Tuple, Count() and Index()\n",
    "     Because Tuples are Immutable, so other methods are not applicable\n"
   ]
  },
  {
   "cell_type": "markdown",
   "id": "c5cde9a4-18cb-4153-bf31-359d27e24d97",
   "metadata": {},
   "source": [
    "#Q3. Which collection datatypes in python do not allow duplicate items? Write a code using a set to remove\n",
    "duplicates from the given list.\n",
    "\n",
    "Ans. Set will not allow duplicates\n"
   ]
  },
  {
   "cell_type": "code",
   "execution_count": 13,
   "id": "2441bda6-9ccf-4a34-bac6-044b9b1416b9",
   "metadata": {},
   "outputs": [
    {
     "data": {
      "text/plain": [
       "{1, 2, 3, 4}"
      ]
     },
     "execution_count": 13,
     "metadata": {},
     "output_type": "execute_result"
    }
   ],
   "source": [
    "lst=[1, 1, 1, 2, 1, 3, 1, 4, 2, 1, 2, 2, 2, 3, 2, 4, 3, 1, 3, 2, 3, 3, 3, 4, 4, 1, 4, 2, 4, 3, 4, 4]\n",
    "set1=set(lst)\n",
    "set1"
   ]
  },
  {
   "cell_type": "markdown",
   "id": "81c09320-190e-4541-9ecd-4105ad0520b3",
   "metadata": {},
   "source": [
    "#Q4. Explain the difference between the union() and update() methods for a set. Give an example of each method.\n",
    "\n",
    "Ans. Union() Combines given sets with unique values\n",
    "     update() will add the set of values into fist set"
   ]
  },
  {
   "cell_type": "code",
   "execution_count": 20,
   "id": "c4208154-fb48-478f-9299-c88ef7f3da7d",
   "metadata": {},
   "outputs": [
    {
     "data": {
      "text/plain": [
       "{1, 2, 3, 4, 5, 6, 7}"
      ]
     },
     "execution_count": 20,
     "metadata": {},
     "output_type": "execute_result"
    }
   ],
   "source": [
    "s1={1,2,3,4,5}\n",
    "s2={4,5,6,7}\n",
    "s1.union(s2)"
   ]
  },
  {
   "cell_type": "code",
   "execution_count": 22,
   "id": "cc891e01-610e-4fdb-afd5-5a898d435aed",
   "metadata": {},
   "outputs": [
    {
     "data": {
      "text/plain": [
       "{1, 2, 3, 4, 5, 6, 7}"
      ]
     },
     "execution_count": 22,
     "metadata": {},
     "output_type": "execute_result"
    }
   ],
   "source": [
    "s1={1,2,3,4,5}\n",
    "s2={4,5,6,7}\n",
    "s1.update(s2)\n",
    "s1"
   ]
  },
  {
   "cell_type": "markdown",
   "id": "89a976af-3e53-41c2-a75e-c04b571f2a33",
   "metadata": {},
   "source": [
    "#Q5. What is a dictionary? Give an example. Also, state whether a dictionary is ordered or unordered.\n",
    "\n",
    "Ans. Dictionary is used to store data values in key:value pairs\n",
    "     dictionaries are ordered\n",
    "     example is below"
   ]
  },
  {
   "cell_type": "code",
   "execution_count": 24,
   "id": "7e738c45-aebc-4256-a9d4-5156cd71934f",
   "metadata": {},
   "outputs": [
    {
     "data": {
      "text/plain": [
       "{'name': 'Laxman', 'designation': 'Software Engg'}"
      ]
     },
     "execution_count": 24,
     "metadata": {},
     "output_type": "execute_result"
    }
   ],
   "source": [
    "d1={\"name\":\"Laxman\", \"designation\":\"Software Engg\"}\n",
    "d1"
   ]
  },
  {
   "cell_type": "markdown",
   "id": "ba1cd6c4-5912-49c7-bf9c-88899c14e6de",
   "metadata": {},
   "source": [
    "#Q6. Can we create a nested dictionary? If so, please give an example by creating a simple one-level\n",
    "nested dictionary.\n",
    "\n",
    "Ans. Yes, We can create Nested Disctionary\n"
   ]
  },
  {
   "cell_type": "code",
   "execution_count": 26,
   "id": "0fbf2146-80aa-4050-8659-266d8bed2ba7",
   "metadata": {},
   "outputs": [
    {
     "data": {
      "text/plain": [
       "{'name': 'Laxman',\n",
       " 'place': 'Bangalore',\n",
       " 'marks': {'subject1': 89, 'subject2': 90, 'subject3': 99}}"
      ]
     },
     "execution_count": 26,
     "metadata": {},
     "output_type": "execute_result"
    }
   ],
   "source": [
    "d2={\"name\":\"Laxman\", \"place\":\"Bangalore\", \"marks\":{\"subject1\":89, \"subject2\":90,\"subject3\":99}}\n",
    "d2"
   ]
  },
  {
   "cell_type": "markdown",
   "id": "a284ebd8-e02b-4329-a852-b55fc978266e",
   "metadata": {},
   "source": [
    "#Q7. Using setdefault() method, create key named topics in the given dictionary and also add the value of\n",
    "the key as this list ['Python', 'Machine Learning’, 'Deep Learning']\n",
    "dict1 = {'language' : 'Python', 'course': 'Data Science Masters'}"
   ]
  },
  {
   "cell_type": "code",
   "execution_count": 27,
   "id": "212e7ee8-d958-4f77-824d-5f613def021e",
   "metadata": {},
   "outputs": [],
   "source": [
    " dict1 = {'language' : 'Python', 'course': 'Data Science Masters'}"
   ]
  },
  {
   "cell_type": "code",
   "execution_count": 36,
   "id": "b2ed089f-abf0-4617-b4d1-fcea4ec62ddb",
   "metadata": {},
   "outputs": [
    {
     "data": {
      "text/plain": [
       "['Python', 'Machine Learning', 'Deep Learning']"
      ]
     },
     "execution_count": 36,
     "metadata": {},
     "output_type": "execute_result"
    }
   ],
   "source": [
    "dict1.setdefault(\"topics\" , ['Python', 'Machine Learning','Deep Learning'])"
   ]
  },
  {
   "cell_type": "code",
   "execution_count": 37,
   "id": "0e0383b4-93cf-4faa-a0b8-cb4d64ecc5d8",
   "metadata": {},
   "outputs": [
    {
     "data": {
      "text/plain": [
       "{'language': 'Python',\n",
       " 'course': 'Data Science Masters',\n",
       " 'topics': ['Python', 'Machine Learning', 'Deep Learning']}"
      ]
     },
     "execution_count": 37,
     "metadata": {},
     "output_type": "execute_result"
    }
   ],
   "source": [
    "dict1"
   ]
  },
  {
   "cell_type": "markdown",
   "id": "f97f01cf-8768-4a6f-9cc7-6bbb93b5abfe",
   "metadata": {},
   "source": [
    "#Q8. What are the three view objects in dictionaries? Use the three in-built methods in python to display\n",
    "these three view objects for the given dictionary.\n",
    "dict1 = {'Sport': 'Cricket' , 'Teams': ['India', 'Australia', 'England', 'South Africa', 'Sri Lanka', 'New Zealand']}"
   ]
  },
  {
   "cell_type": "code",
   "execution_count": 39,
   "id": "a9c8a813-69a5-4aa6-99d0-8d03448e50e2",
   "metadata": {},
   "outputs": [
    {
     "data": {
      "text/plain": [
       "{'Sport': 'Cricket',\n",
       " 'Teams': ['India',\n",
       "  'Australia',\n",
       "  'England',\n",
       "  'South Africa',\n",
       "  'Sri Lanka',\n",
       "  'New Zealand']}"
      ]
     },
     "execution_count": 39,
     "metadata": {},
     "output_type": "execute_result"
    }
   ],
   "source": [
    "dict1 = {'Sport': 'Cricket' , 'Teams': ['India', 'Australia', 'England', 'South Africa', 'Sri Lanka', 'New Zealand']}\n",
    "dict1"
   ]
  },
  {
   "cell_type": "code",
   "execution_count": 40,
   "id": "b7d32db9-50cb-43dd-93b6-70d5cd93848f",
   "metadata": {},
   "outputs": [
    {
     "data": {
      "text/plain": [
       "dict_items([('Sport', 'Cricket'), ('Teams', ['India', 'Australia', 'England', 'South Africa', 'Sri Lanka', 'New Zealand'])])"
      ]
     },
     "execution_count": 40,
     "metadata": {},
     "output_type": "execute_result"
    }
   ],
   "source": [
    "dict1.items()"
   ]
  },
  {
   "cell_type": "code",
   "execution_count": 41,
   "id": "0b217209-d1e6-4f37-8718-ebdd94f1b313",
   "metadata": {},
   "outputs": [
    {
     "data": {
      "text/plain": [
       "dict_keys(['Sport', 'Teams'])"
      ]
     },
     "execution_count": 41,
     "metadata": {},
     "output_type": "execute_result"
    }
   ],
   "source": [
    "dict1.keys()"
   ]
  },
  {
   "cell_type": "code",
   "execution_count": 42,
   "id": "c22a7292-1f8f-48b9-a957-4c53640e5dbd",
   "metadata": {},
   "outputs": [
    {
     "data": {
      "text/plain": [
       "dict_values(['Cricket', ['India', 'Australia', 'England', 'South Africa', 'Sri Lanka', 'New Zealand']])"
      ]
     },
     "execution_count": 42,
     "metadata": {},
     "output_type": "execute_result"
    }
   ],
   "source": [
    "dict1.values()"
   ]
  },
  {
   "cell_type": "code",
   "execution_count": null,
   "id": "06b0afec-38b6-4121-8be6-8756d58a2b65",
   "metadata": {},
   "outputs": [],
   "source": []
  }
 ],
 "metadata": {
  "kernelspec": {
   "display_name": "Python 3 (ipykernel)",
   "language": "python",
   "name": "python3"
  },
  "language_info": {
   "codemirror_mode": {
    "name": "ipython",
    "version": 3
   },
   "file_extension": ".py",
   "mimetype": "text/x-python",
   "name": "python",
   "nbconvert_exporter": "python",
   "pygments_lexer": "ipython3",
   "version": "3.10.8"
  }
 },
 "nbformat": 4,
 "nbformat_minor": 5
}
